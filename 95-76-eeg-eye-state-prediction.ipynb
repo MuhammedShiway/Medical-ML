{
 "cells": [
  {
   "cell_type": "markdown",
   "id": "d29a7877",
   "metadata": {
    "papermill": {
     "duration": 0.009045,
     "end_time": "2024-12-12T11:10:29.243270",
     "exception": false,
     "start_time": "2024-12-12T11:10:29.234225",
     "status": "completed"
    },
    "tags": []
   },
   "source": [
    "# <span style=\"display: block; text-align: center; color: gold;\">Import Libraries</span>\n"
   ]
  },
  {
   "cell_type": "code",
   "execution_count": 1,
   "id": "28aa6cc2",
   "metadata": {
    "_cell_guid": "b1076dfc-b9ad-4769-8c92-a6c4dae69d19",
    "_uuid": "8f2839f25d086af736a60e9eeb907d3b93b6e0e5",
    "execution": {
     "iopub.execute_input": "2024-12-12T11:10:29.262696Z",
     "iopub.status.busy": "2024-12-12T11:10:29.262146Z",
     "iopub.status.idle": "2024-12-12T11:10:34.259743Z",
     "shell.execute_reply": "2024-12-12T11:10:34.258454Z"
    },
    "papermill": {
     "duration": 5.010602,
     "end_time": "2024-12-12T11:10:34.262626",
     "exception": false,
     "start_time": "2024-12-12T11:10:29.252024",
     "status": "completed"
    },
    "tags": []
   },
   "outputs": [],
   "source": [
    "import numpy as np\n",
    "import pandas as pd\n",
    "import seaborn as sns\n",
    "import matplotlib.pyplot as plt\n",
    "\n",
    "from sklearn.model_selection import GridSearchCV\n",
    "from sklearn.preprocessing import StandardScaler\n",
    "from sklearn.model_selection import train_test_split\n",
    "from sklearn.metrics import accuracy_score, precision_score, recall_score, f1_score, confusion_matrix\n",
    "\n",
    "\n",
    "\n",
    "from xgboost import XGBClassifier\n",
    "from lightgbm import LGBMClassifier\n",
    "from catboost import CatBoostClassifier\n",
    "from sklearn.tree import DecisionTreeClassifier\n",
    "from sklearn.ensemble import RandomForestClassifier\n",
    "from sklearn.linear_model import LogisticRegression\n"
   ]
  },
  {
   "cell_type": "markdown",
   "id": "dbe593e1",
   "metadata": {
    "papermill": {
     "duration": 0.006838,
     "end_time": "2024-12-12T11:10:34.277828",
     "exception": false,
     "start_time": "2024-12-12T11:10:34.270990",
     "status": "completed"
    },
    "tags": []
   },
   "source": [
    "# <span style=\"display: block; text-align: center; color: gold;\">Data Loading </span>\n"
   ]
  },
  {
   "cell_type": "code",
   "execution_count": 2,
   "id": "21523407",
   "metadata": {
    "execution": {
     "iopub.execute_input": "2024-12-12T11:10:34.293123Z",
     "iopub.status.busy": "2024-12-12T11:10:34.292546Z",
     "iopub.status.idle": "2024-12-12T11:10:34.401809Z",
     "shell.execute_reply": "2024-12-12T11:10:34.400492Z"
    },
    "papermill": {
     "duration": 0.119813,
     "end_time": "2024-12-12T11:10:34.404250",
     "exception": false,
     "start_time": "2024-12-12T11:10:34.284437",
     "status": "completed"
    },
    "tags": []
   },
   "outputs": [
    {
     "name": "stdout",
     "output_type": "stream",
     "text": [
      "First few rows of the dataset: \n",
      "\n"
     ]
    },
    {
     "data": {
      "text/html": [
       "<div>\n",
       "<style scoped>\n",
       "    .dataframe tbody tr th:only-of-type {\n",
       "        vertical-align: middle;\n",
       "    }\n",
       "\n",
       "    .dataframe tbody tr th {\n",
       "        vertical-align: top;\n",
       "    }\n",
       "\n",
       "    .dataframe thead th {\n",
       "        text-align: right;\n",
       "    }\n",
       "</style>\n",
       "<table border=\"1\" class=\"dataframe\">\n",
       "  <thead>\n",
       "    <tr style=\"text-align: right;\">\n",
       "      <th></th>\n",
       "      <th>AF3</th>\n",
       "      <th>F7</th>\n",
       "      <th>F3</th>\n",
       "      <th>FC5</th>\n",
       "      <th>T7</th>\n",
       "      <th>P</th>\n",
       "      <th>O1</th>\n",
       "      <th>O2</th>\n",
       "      <th>P8</th>\n",
       "      <th>T8</th>\n",
       "      <th>FC6</th>\n",
       "      <th>F4</th>\n",
       "      <th>F8</th>\n",
       "      <th>AF4</th>\n",
       "      <th>eye_state</th>\n",
       "    </tr>\n",
       "  </thead>\n",
       "  <tbody>\n",
       "    <tr>\n",
       "      <th>0</th>\n",
       "      <td>4329.23</td>\n",
       "      <td>4009.23</td>\n",
       "      <td>4289.23</td>\n",
       "      <td>4148.21</td>\n",
       "      <td>4350.26</td>\n",
       "      <td>4586.15</td>\n",
       "      <td>4096.92</td>\n",
       "      <td>4641.03</td>\n",
       "      <td>4222.05</td>\n",
       "      <td>4238.46</td>\n",
       "      <td>4211.28</td>\n",
       "      <td>4280.51</td>\n",
       "      <td>4635.90</td>\n",
       "      <td>4393.85</td>\n",
       "      <td>1</td>\n",
       "    </tr>\n",
       "    <tr>\n",
       "      <th>1</th>\n",
       "      <td>4324.62</td>\n",
       "      <td>4004.62</td>\n",
       "      <td>4293.85</td>\n",
       "      <td>4148.72</td>\n",
       "      <td>4342.05</td>\n",
       "      <td>4586.67</td>\n",
       "      <td>4097.44</td>\n",
       "      <td>4638.97</td>\n",
       "      <td>4210.77</td>\n",
       "      <td>4226.67</td>\n",
       "      <td>4207.69</td>\n",
       "      <td>4279.49</td>\n",
       "      <td>4632.82</td>\n",
       "      <td>4384.10</td>\n",
       "      <td>1</td>\n",
       "    </tr>\n",
       "    <tr>\n",
       "      <th>2</th>\n",
       "      <td>4327.69</td>\n",
       "      <td>4006.67</td>\n",
       "      <td>4295.38</td>\n",
       "      <td>4156.41</td>\n",
       "      <td>4336.92</td>\n",
       "      <td>4583.59</td>\n",
       "      <td>4096.92</td>\n",
       "      <td>4630.26</td>\n",
       "      <td>4207.69</td>\n",
       "      <td>4222.05</td>\n",
       "      <td>4206.67</td>\n",
       "      <td>4282.05</td>\n",
       "      <td>4628.72</td>\n",
       "      <td>4389.23</td>\n",
       "      <td>1</td>\n",
       "    </tr>\n",
       "    <tr>\n",
       "      <th>3</th>\n",
       "      <td>4328.72</td>\n",
       "      <td>4011.79</td>\n",
       "      <td>4296.41</td>\n",
       "      <td>4155.90</td>\n",
       "      <td>4343.59</td>\n",
       "      <td>4582.56</td>\n",
       "      <td>4097.44</td>\n",
       "      <td>4630.77</td>\n",
       "      <td>4217.44</td>\n",
       "      <td>4235.38</td>\n",
       "      <td>4210.77</td>\n",
       "      <td>4287.69</td>\n",
       "      <td>4632.31</td>\n",
       "      <td>4396.41</td>\n",
       "      <td>1</td>\n",
       "    </tr>\n",
       "    <tr>\n",
       "      <th>4</th>\n",
       "      <td>4326.15</td>\n",
       "      <td>4011.79</td>\n",
       "      <td>4292.31</td>\n",
       "      <td>4151.28</td>\n",
       "      <td>4347.69</td>\n",
       "      <td>4586.67</td>\n",
       "      <td>4095.90</td>\n",
       "      <td>4627.69</td>\n",
       "      <td>4210.77</td>\n",
       "      <td>4244.10</td>\n",
       "      <td>4212.82</td>\n",
       "      <td>4288.21</td>\n",
       "      <td>4632.82</td>\n",
       "      <td>4398.46</td>\n",
       "      <td>1</td>\n",
       "    </tr>\n",
       "  </tbody>\n",
       "</table>\n",
       "</div>"
      ],
      "text/plain": [
       "       AF3       F7       F3      FC5       T7        P       O1       O2  \\\n",
       "0  4329.23  4009.23  4289.23  4148.21  4350.26  4586.15  4096.92  4641.03   \n",
       "1  4324.62  4004.62  4293.85  4148.72  4342.05  4586.67  4097.44  4638.97   \n",
       "2  4327.69  4006.67  4295.38  4156.41  4336.92  4583.59  4096.92  4630.26   \n",
       "3  4328.72  4011.79  4296.41  4155.90  4343.59  4582.56  4097.44  4630.77   \n",
       "4  4326.15  4011.79  4292.31  4151.28  4347.69  4586.67  4095.90  4627.69   \n",
       "\n",
       "        P8       T8      FC6       F4       F8      AF4  eye_state  \n",
       "0  4222.05  4238.46  4211.28  4280.51  4635.90  4393.85          1  \n",
       "1  4210.77  4226.67  4207.69  4279.49  4632.82  4384.10          1  \n",
       "2  4207.69  4222.05  4206.67  4282.05  4628.72  4389.23          1  \n",
       "3  4217.44  4235.38  4210.77  4287.69  4632.31  4396.41          1  \n",
       "4  4210.77  4244.10  4212.82  4288.21  4632.82  4398.46          1  "
      ]
     },
     "execution_count": 2,
     "metadata": {},
     "output_type": "execute_result"
    }
   ],
   "source": [
    "data = pd.read_csv(\"/kaggle/input/eeg-neuroheadset/eeg-headset.csv\")\n",
    "\n",
    "print(\"First few rows of the dataset: \\n\")\n",
    "data.head()\n"
   ]
  },
  {
   "cell_type": "code",
   "execution_count": 3,
   "id": "5f4e8718",
   "metadata": {
    "execution": {
     "iopub.execute_input": "2024-12-12T11:10:34.420137Z",
     "iopub.status.busy": "2024-12-12T11:10:34.419742Z",
     "iopub.status.idle": "2024-12-12T11:10:34.427389Z",
     "shell.execute_reply": "2024-12-12T11:10:34.426041Z"
    },
    "papermill": {
     "duration": 0.018571,
     "end_time": "2024-12-12T11:10:34.429969",
     "exception": false,
     "start_time": "2024-12-12T11:10:34.411398",
     "status": "completed"
    },
    "tags": []
   },
   "outputs": [
    {
     "name": "stdout",
     "output_type": "stream",
     "text": [
      "\n",
      "Data Types:\n",
      "AF3          float64\n",
      "F7           float64\n",
      "F3           float64\n",
      "FC5          float64\n",
      "T7           float64\n",
      "P            float64\n",
      "O1           float64\n",
      "O2           float64\n",
      "P8           float64\n",
      "T8           float64\n",
      "FC6          float64\n",
      "F4           float64\n",
      "F8           float64\n",
      "AF4          float64\n",
      "eye_state      int64\n",
      "dtype: object\n"
     ]
    }
   ],
   "source": [
    "# Data types and structure\n",
    "print(\"\\nData Types:\")\n",
    "print(data.dtypes)"
   ]
  },
  {
   "cell_type": "markdown",
   "id": "a8493eb9",
   "metadata": {
    "papermill": {
     "duration": 0.006682,
     "end_time": "2024-12-12T11:10:34.443918",
     "exception": false,
     "start_time": "2024-12-12T11:10:34.437236",
     "status": "completed"
    },
    "tags": []
   },
   "source": [
    "# <span style=\"display: block; text-align: center; color: gold;\">Simple Data Exploration </span>\n"
   ]
  },
  {
   "cell_type": "code",
   "execution_count": 4,
   "id": "62c15e63",
   "metadata": {
    "execution": {
     "iopub.execute_input": "2024-12-12T11:10:34.460370Z",
     "iopub.status.busy": "2024-12-12T11:10:34.459972Z",
     "iopub.status.idle": "2024-12-12T11:10:34.466723Z",
     "shell.execute_reply": "2024-12-12T11:10:34.465392Z"
    },
    "papermill": {
     "duration": 0.018289,
     "end_time": "2024-12-12T11:10:34.469223",
     "exception": false,
     "start_time": "2024-12-12T11:10:34.450934",
     "status": "completed"
    },
    "tags": []
   },
   "outputs": [
    {
     "name": "stdout",
     "output_type": "stream",
     "text": [
      "\n",
      "Dataset Shape: (14980, 15)\n"
     ]
    }
   ],
   "source": [
    "print(f\"\\nDataset Shape: {data.shape}\")"
   ]
  },
  {
   "cell_type": "code",
   "execution_count": 5,
   "id": "a0749cae",
   "metadata": {
    "execution": {
     "iopub.execute_input": "2024-12-12T11:10:34.485377Z",
     "iopub.status.busy": "2024-12-12T11:10:34.484961Z",
     "iopub.status.idle": "2024-12-12T11:10:34.549337Z",
     "shell.execute_reply": "2024-12-12T11:10:34.548112Z"
    },
    "papermill": {
     "duration": 0.075061,
     "end_time": "2024-12-12T11:10:34.551623",
     "exception": false,
     "start_time": "2024-12-12T11:10:34.476562",
     "status": "completed"
    },
    "tags": []
   },
   "outputs": [
    {
     "name": "stdout",
     "output_type": "stream",
     "text": [
      "\n",
      "Summary Statistics:\n"
     ]
    },
    {
     "data": {
      "text/html": [
       "<div>\n",
       "<style scoped>\n",
       "    .dataframe tbody tr th:only-of-type {\n",
       "        vertical-align: middle;\n",
       "    }\n",
       "\n",
       "    .dataframe tbody tr th {\n",
       "        vertical-align: top;\n",
       "    }\n",
       "\n",
       "    .dataframe thead th {\n",
       "        text-align: right;\n",
       "    }\n",
       "</style>\n",
       "<table border=\"1\" class=\"dataframe\">\n",
       "  <thead>\n",
       "    <tr style=\"text-align: right;\">\n",
       "      <th></th>\n",
       "      <th>AF3</th>\n",
       "      <th>F7</th>\n",
       "      <th>F3</th>\n",
       "      <th>FC5</th>\n",
       "      <th>T7</th>\n",
       "      <th>P</th>\n",
       "      <th>O1</th>\n",
       "      <th>O2</th>\n",
       "      <th>P8</th>\n",
       "      <th>T8</th>\n",
       "      <th>FC6</th>\n",
       "      <th>F4</th>\n",
       "      <th>F8</th>\n",
       "      <th>AF4</th>\n",
       "      <th>eye_state</th>\n",
       "    </tr>\n",
       "  </thead>\n",
       "  <tbody>\n",
       "    <tr>\n",
       "      <th>count</th>\n",
       "      <td>14980.000000</td>\n",
       "      <td>14980.000000</td>\n",
       "      <td>14980.000000</td>\n",
       "      <td>14980.000000</td>\n",
       "      <td>14980.000000</td>\n",
       "      <td>14980.000000</td>\n",
       "      <td>14980.000000</td>\n",
       "      <td>14980.000000</td>\n",
       "      <td>14980.000000</td>\n",
       "      <td>14980.000000</td>\n",
       "      <td>14980.000000</td>\n",
       "      <td>14980.000000</td>\n",
       "      <td>14980.000000</td>\n",
       "      <td>14980.000000</td>\n",
       "      <td>14980.000000</td>\n",
       "    </tr>\n",
       "    <tr>\n",
       "      <th>mean</th>\n",
       "      <td>4321.917777</td>\n",
       "      <td>4009.767694</td>\n",
       "      <td>4264.022433</td>\n",
       "      <td>4164.946326</td>\n",
       "      <td>4341.741075</td>\n",
       "      <td>4644.022379</td>\n",
       "      <td>4110.400160</td>\n",
       "      <td>4616.056904</td>\n",
       "      <td>4218.826610</td>\n",
       "      <td>4231.316200</td>\n",
       "      <td>4202.456900</td>\n",
       "      <td>4279.232774</td>\n",
       "      <td>4615.205336</td>\n",
       "      <td>4416.435832</td>\n",
       "      <td>1.448798</td>\n",
       "    </tr>\n",
       "    <tr>\n",
       "      <th>std</th>\n",
       "      <td>2492.072174</td>\n",
       "      <td>45.941672</td>\n",
       "      <td>44.428052</td>\n",
       "      <td>5216.404632</td>\n",
       "      <td>34.738821</td>\n",
       "      <td>2924.789537</td>\n",
       "      <td>4600.926543</td>\n",
       "      <td>29.292603</td>\n",
       "      <td>2136.408523</td>\n",
       "      <td>38.050903</td>\n",
       "      <td>37.785981</td>\n",
       "      <td>41.544312</td>\n",
       "      <td>1208.369958</td>\n",
       "      <td>5891.285043</td>\n",
       "      <td>0.497388</td>\n",
       "    </tr>\n",
       "    <tr>\n",
       "      <th>min</th>\n",
       "      <td>1030.770000</td>\n",
       "      <td>2830.770000</td>\n",
       "      <td>1040.000000</td>\n",
       "      <td>2453.330000</td>\n",
       "      <td>2089.740000</td>\n",
       "      <td>2768.210000</td>\n",
       "      <td>2086.150000</td>\n",
       "      <td>4567.180000</td>\n",
       "      <td>1357.950000</td>\n",
       "      <td>1816.410000</td>\n",
       "      <td>3273.330000</td>\n",
       "      <td>2257.950000</td>\n",
       "      <td>86.666700</td>\n",
       "      <td>1366.150000</td>\n",
       "      <td>1.000000</td>\n",
       "    </tr>\n",
       "    <tr>\n",
       "      <th>25%</th>\n",
       "      <td>4280.510000</td>\n",
       "      <td>3990.770000</td>\n",
       "      <td>4250.260000</td>\n",
       "      <td>4108.210000</td>\n",
       "      <td>4331.790000</td>\n",
       "      <td>4611.790000</td>\n",
       "      <td>4057.950000</td>\n",
       "      <td>4604.620000</td>\n",
       "      <td>4190.770000</td>\n",
       "      <td>4220.510000</td>\n",
       "      <td>4190.260000</td>\n",
       "      <td>4267.690000</td>\n",
       "      <td>4590.770000</td>\n",
       "      <td>4342.050000</td>\n",
       "      <td>1.000000</td>\n",
       "    </tr>\n",
       "    <tr>\n",
       "      <th>50%</th>\n",
       "      <td>4294.360000</td>\n",
       "      <td>4005.640000</td>\n",
       "      <td>4262.560000</td>\n",
       "      <td>4120.510000</td>\n",
       "      <td>4338.970000</td>\n",
       "      <td>4617.950000</td>\n",
       "      <td>4070.260000</td>\n",
       "      <td>4613.330000</td>\n",
       "      <td>4199.490000</td>\n",
       "      <td>4229.230000</td>\n",
       "      <td>4200.510000</td>\n",
       "      <td>4276.920000</td>\n",
       "      <td>4603.080000</td>\n",
       "      <td>4354.870000</td>\n",
       "      <td>1.000000</td>\n",
       "    </tr>\n",
       "    <tr>\n",
       "      <th>75%</th>\n",
       "      <td>4311.790000</td>\n",
       "      <td>4023.080000</td>\n",
       "      <td>4270.770000</td>\n",
       "      <td>4132.310000</td>\n",
       "      <td>4347.180000</td>\n",
       "      <td>4626.670000</td>\n",
       "      <td>4083.590000</td>\n",
       "      <td>4624.100000</td>\n",
       "      <td>4209.230000</td>\n",
       "      <td>4239.490000</td>\n",
       "      <td>4211.280000</td>\n",
       "      <td>4287.180000</td>\n",
       "      <td>4617.440000</td>\n",
       "      <td>4372.820000</td>\n",
       "      <td>2.000000</td>\n",
       "    </tr>\n",
       "    <tr>\n",
       "      <th>max</th>\n",
       "      <td>309231.000000</td>\n",
       "      <td>7804.620000</td>\n",
       "      <td>6880.510000</td>\n",
       "      <td>642564.000000</td>\n",
       "      <td>6474.360000</td>\n",
       "      <td>362564.000000</td>\n",
       "      <td>567179.000000</td>\n",
       "      <td>7264.100000</td>\n",
       "      <td>265641.000000</td>\n",
       "      <td>6674.360000</td>\n",
       "      <td>6823.080000</td>\n",
       "      <td>7002.560000</td>\n",
       "      <td>152308.000000</td>\n",
       "      <td>715897.000000</td>\n",
       "      <td>2.000000</td>\n",
       "    </tr>\n",
       "  </tbody>\n",
       "</table>\n",
       "</div>"
      ],
      "text/plain": [
       "                 AF3            F7            F3            FC5            T7  \\\n",
       "count   14980.000000  14980.000000  14980.000000   14980.000000  14980.000000   \n",
       "mean     4321.917777   4009.767694   4264.022433    4164.946326   4341.741075   \n",
       "std      2492.072174     45.941672     44.428052    5216.404632     34.738821   \n",
       "min      1030.770000   2830.770000   1040.000000    2453.330000   2089.740000   \n",
       "25%      4280.510000   3990.770000   4250.260000    4108.210000   4331.790000   \n",
       "50%      4294.360000   4005.640000   4262.560000    4120.510000   4338.970000   \n",
       "75%      4311.790000   4023.080000   4270.770000    4132.310000   4347.180000   \n",
       "max    309231.000000   7804.620000   6880.510000  642564.000000   6474.360000   \n",
       "\n",
       "                   P             O1            O2             P8  \\\n",
       "count   14980.000000   14980.000000  14980.000000   14980.000000   \n",
       "mean     4644.022379    4110.400160   4616.056904    4218.826610   \n",
       "std      2924.789537    4600.926543     29.292603    2136.408523   \n",
       "min      2768.210000    2086.150000   4567.180000    1357.950000   \n",
       "25%      4611.790000    4057.950000   4604.620000    4190.770000   \n",
       "50%      4617.950000    4070.260000   4613.330000    4199.490000   \n",
       "75%      4626.670000    4083.590000   4624.100000    4209.230000   \n",
       "max    362564.000000  567179.000000   7264.100000  265641.000000   \n",
       "\n",
       "                 T8           FC6            F4             F8            AF4  \\\n",
       "count  14980.000000  14980.000000  14980.000000   14980.000000   14980.000000   \n",
       "mean    4231.316200   4202.456900   4279.232774    4615.205336    4416.435832   \n",
       "std       38.050903     37.785981     41.544312    1208.369958    5891.285043   \n",
       "min     1816.410000   3273.330000   2257.950000      86.666700    1366.150000   \n",
       "25%     4220.510000   4190.260000   4267.690000    4590.770000    4342.050000   \n",
       "50%     4229.230000   4200.510000   4276.920000    4603.080000    4354.870000   \n",
       "75%     4239.490000   4211.280000   4287.180000    4617.440000    4372.820000   \n",
       "max     6674.360000   6823.080000   7002.560000  152308.000000  715897.000000   \n",
       "\n",
       "          eye_state  \n",
       "count  14980.000000  \n",
       "mean       1.448798  \n",
       "std        0.497388  \n",
       "min        1.000000  \n",
       "25%        1.000000  \n",
       "50%        1.000000  \n",
       "75%        2.000000  \n",
       "max        2.000000  "
      ]
     },
     "execution_count": 5,
     "metadata": {},
     "output_type": "execute_result"
    }
   ],
   "source": [
    "print(\"\\nSummary Statistics:\")\n",
    "data.describe()"
   ]
  },
  {
   "cell_type": "code",
   "execution_count": 6,
   "id": "f1c64b69",
   "metadata": {
    "execution": {
     "iopub.execute_input": "2024-12-12T11:10:34.568653Z",
     "iopub.status.busy": "2024-12-12T11:10:34.568234Z",
     "iopub.status.idle": "2024-12-12T11:10:34.576865Z",
     "shell.execute_reply": "2024-12-12T11:10:34.575522Z"
    },
    "papermill": {
     "duration": 0.020041,
     "end_time": "2024-12-12T11:10:34.579374",
     "exception": false,
     "start_time": "2024-12-12T11:10:34.559333",
     "status": "completed"
    },
    "tags": []
   },
   "outputs": [
    {
     "name": "stdout",
     "output_type": "stream",
     "text": [
      "\n",
      " Missing Values per Column: \n",
      "\n",
      "AF3          0\n",
      "F7           0\n",
      "F3           0\n",
      "FC5          0\n",
      "T7           0\n",
      "P            0\n",
      "O1           0\n",
      "O2           0\n",
      "P8           0\n",
      "T8           0\n",
      "FC6          0\n",
      "F4           0\n",
      "F8           0\n",
      "AF4          0\n",
      "eye_state    0\n",
      "dtype: int64\n"
     ]
    }
   ],
   "source": [
    "# Check for missing values\n",
    "missing_values = data.isnull().sum()\n",
    "print(\"\\n Missing Values per Column: \\n\")\n",
    "print(missing_values)\n"
   ]
  },
  {
   "cell_type": "code",
   "execution_count": 7,
   "id": "326e9f3d",
   "metadata": {
    "execution": {
     "iopub.execute_input": "2024-12-12T11:10:34.596603Z",
     "iopub.status.busy": "2024-12-12T11:10:34.596165Z",
     "iopub.status.idle": "2024-12-12T11:10:34.612963Z",
     "shell.execute_reply": "2024-12-12T11:10:34.611626Z"
    },
    "papermill": {
     "duration": 0.027909,
     "end_time": "2024-12-12T11:10:34.615142",
     "exception": false,
     "start_time": "2024-12-12T11:10:34.587233",
     "status": "completed"
    },
    "tags": []
   },
   "outputs": [
    {
     "name": "stdout",
     "output_type": "stream",
     "text": [
      "\n",
      "Class Distribution of Target (eye_state):\n",
      "\n"
     ]
    },
    {
     "data": {
      "text/plain": [
       "eye_state\n",
       "1    0.551202\n",
       "2    0.448798\n",
       "Name: proportion, dtype: float64"
      ]
     },
     "execution_count": 7,
     "metadata": {},
     "output_type": "execute_result"
    }
   ],
   "source": [
    "# Check for class imbalance\n",
    "print(\"\\nClass Distribution of Target (eye_state):\\n\")\n",
    "data['eye_state'].value_counts(normalize=True)\n"
   ]
  },
  {
   "cell_type": "markdown",
   "id": "7f34ba75",
   "metadata": {
    "papermill": {
     "duration": 0.007787,
     "end_time": "2024-12-12T11:10:34.631145",
     "exception": false,
     "start_time": "2024-12-12T11:10:34.623358",
     "status": "completed"
    },
    "tags": []
   },
   "source": [
    "# <span style=\"display: block; text-align: center; color: gold;\">Data Preprocessing</span>\n"
   ]
  },
  {
   "cell_type": "code",
   "execution_count": 8,
   "id": "15af84a7",
   "metadata": {
    "execution": {
     "iopub.execute_input": "2024-12-12T11:10:34.648568Z",
     "iopub.status.busy": "2024-12-12T11:10:34.648159Z",
     "iopub.status.idle": "2024-12-12T11:10:34.668547Z",
     "shell.execute_reply": "2024-12-12T11:10:34.667397Z"
    },
    "papermill": {
     "duration": 0.032089,
     "end_time": "2024-12-12T11:10:34.671173",
     "exception": false,
     "start_time": "2024-12-12T11:10:34.639084",
     "status": "completed"
    },
    "tags": []
   },
   "outputs": [],
   "source": [
    "X = data.drop(columns=['eye_state'])\n",
    "y = data['eye_state']\n",
    "\n",
    "# Scale the features\n",
    "scaler = StandardScaler()\n",
    "X_scaled = scaler.fit_transform(X)\n"
   ]
  },
  {
   "cell_type": "markdown",
   "id": "a1d5aa2b",
   "metadata": {
    "papermill": {
     "duration": 0.007311,
     "end_time": "2024-12-12T11:10:34.686371",
     "exception": false,
     "start_time": "2024-12-12T11:10:34.679060",
     "status": "completed"
    },
    "tags": []
   },
   "source": [
    "# <span style=\"display: block; text-align: center; color: gold;\">Splitting the Data</span>\n"
   ]
  },
  {
   "cell_type": "code",
   "execution_count": 9,
   "id": "2cbf46ed",
   "metadata": {
    "execution": {
     "iopub.execute_input": "2024-12-12T11:10:34.704009Z",
     "iopub.status.busy": "2024-12-12T11:10:34.703546Z",
     "iopub.status.idle": "2024-12-12T11:10:34.721094Z",
     "shell.execute_reply": "2024-12-12T11:10:34.719842Z"
    },
    "papermill": {
     "duration": 0.028971,
     "end_time": "2024-12-12T11:10:34.723597",
     "exception": false,
     "start_time": "2024-12-12T11:10:34.694626",
     "status": "completed"
    },
    "tags": []
   },
   "outputs": [
    {
     "name": "stdout",
     "output_type": "stream",
     "text": [
      "\n",
      "Training set size: 11984\n",
      "Test set size: 2996\n"
     ]
    }
   ],
   "source": [
    "# Stratified splitting to handle class imbalance, [NOT REALLY NECESSARY]\n",
    "X_train, X_test, y_train, y_test = train_test_split(\n",
    "    X_scaled, y, test_size=0.2, stratify=y, random_state=42\n",
    ")\n",
    "\n",
    "print(f\"\\nTraining set size: {X_train.shape[0]}\")\n",
    "print(f\"Test set size: {X_test.shape[0]}\")\n"
   ]
  },
  {
   "cell_type": "markdown",
   "id": "b3ae6abc",
   "metadata": {
    "papermill": {
     "duration": 0.007409,
     "end_time": "2024-12-12T11:10:34.738977",
     "exception": false,
     "start_time": "2024-12-12T11:10:34.731568",
     "status": "completed"
    },
    "tags": []
   },
   "source": [
    "# <span style=\"display: block; text-align: center; color: gold;\">Models</span>\n"
   ]
  },
  {
   "cell_type": "code",
   "execution_count": 10,
   "id": "13fd4ca9",
   "metadata": {
    "execution": {
     "iopub.execute_input": "2024-12-12T11:10:34.756124Z",
     "iopub.status.busy": "2024-12-12T11:10:34.755708Z",
     "iopub.status.idle": "2024-12-12T11:10:34.761774Z",
     "shell.execute_reply": "2024-12-12T11:10:34.760391Z"
    },
    "papermill": {
     "duration": 0.017637,
     "end_time": "2024-12-12T11:10:34.764240",
     "exception": false,
     "start_time": "2024-12-12T11:10:34.746603",
     "status": "completed"
    },
    "tags": []
   },
   "outputs": [],
   "source": [
    "# Define models to be trained\n",
    "models = {\n",
    "    \"Logistic Regression\": LogisticRegression(random_state=42),\n",
    "    \"Decision Tree\": DecisionTreeClassifier(random_state=42),\n",
    "    \"Random Forest\": RandomForestClassifier(random_state=42)\n",
    "}\n"
   ]
  },
  {
   "cell_type": "code",
   "execution_count": 11,
   "id": "974230cd",
   "metadata": {
    "execution": {
     "iopub.execute_input": "2024-12-12T11:10:34.782541Z",
     "iopub.status.busy": "2024-12-12T11:10:34.781747Z",
     "iopub.status.idle": "2024-12-12T11:10:37.820889Z",
     "shell.execute_reply": "2024-12-12T11:10:37.819475Z"
    },
    "papermill": {
     "duration": 3.050822,
     "end_time": "2024-12-12T11:10:37.823479",
     "exception": false,
     "start_time": "2024-12-12T11:10:34.772657",
     "status": "completed"
    },
    "tags": []
   },
   "outputs": [
    {
     "name": "stdout",
     "output_type": "stream",
     "text": [
      "Logistic Regression trained.\n",
      "Decision Tree trained.\n",
      "Random Forest trained.\n"
     ]
    }
   ],
   "source": [
    "# Model Training\n",
    "for name, model in models.items():\n",
    "    model.fit(X_train, y_train)\n",
    "    print(f\"{name} trained.\")\n"
   ]
  },
  {
   "cell_type": "markdown",
   "id": "226ba9b4",
   "metadata": {
    "papermill": {
     "duration": 0.007529,
     "end_time": "2024-12-12T11:10:37.839045",
     "exception": false,
     "start_time": "2024-12-12T11:10:37.831516",
     "status": "completed"
    },
    "tags": []
   },
   "source": [
    "# <span style=\"display: block; text-align: center; color: gold;\">Evaluating Model Performance</span>\n",
    "\n",
    "\n"
   ]
  },
  {
   "cell_type": "code",
   "execution_count": 12,
   "id": "1878bafb",
   "metadata": {
    "execution": {
     "iopub.execute_input": "2024-12-12T11:10:37.856613Z",
     "iopub.status.busy": "2024-12-12T11:10:37.856128Z",
     "iopub.status.idle": "2024-12-12T11:10:38.021545Z",
     "shell.execute_reply": "2024-12-12T11:10:38.020172Z"
    },
    "papermill": {
     "duration": 0.177477,
     "end_time": "2024-12-12T11:10:38.024337",
     "exception": false,
     "start_time": "2024-12-12T11:10:37.846860",
     "status": "completed"
    },
    "tags": []
   },
   "outputs": [
    {
     "name": "stdout",
     "output_type": "stream",
     "text": [
      "\n",
      "Logistic Regression Performance:\n",
      "Accuracy: 0.5754\n",
      "Precision: 0.5902\n",
      "Recall: 0.7511\n",
      "F1 Score: 0.6610\n",
      "Confusion Matrix:\n",
      "[[1240  411]\n",
      " [ 861  484]]\n",
      "\n",
      "Decision Tree Performance:\n",
      "Accuracy: 0.8258\n",
      "Precision: 0.8448\n",
      "Recall: 0.8377\n",
      "F1 Score: 0.8412\n",
      "Confusion Matrix:\n",
      "[[1383  268]\n",
      " [ 254 1091]]\n",
      "\n",
      "Random Forest Performance:\n",
      "Accuracy: 0.9306\n",
      "Precision: 0.9197\n",
      "Recall: 0.9576\n",
      "F1 Score: 0.9383\n",
      "Confusion Matrix:\n",
      "[[1581   70]\n",
      " [ 138 1207]]\n"
     ]
    }
   ],
   "source": [
    "for name, model in models.items():\n",
    "    y_pred = model.predict(X_test)\n",
    "    print(f\"\\n{name} Performance:\")\n",
    "    print(f\"Accuracy: {accuracy_score(y_test, y_pred):.4f}\")\n",
    "    print(f\"Precision: {precision_score(y_test, y_pred):.4f}\")\n",
    "    print(f\"Recall: {recall_score(y_test, y_pred):.4f}\")\n",
    "    print(f\"F1 Score: {f1_score(y_test, y_pred):.4f}\")\n",
    "    print(\"Confusion Matrix:\")\n",
    "    print(confusion_matrix(y_test, y_pred))\n"
   ]
  },
  {
   "cell_type": "markdown",
   "id": "7d5317b6",
   "metadata": {
    "papermill": {
     "duration": 0.007767,
     "end_time": "2024-12-12T11:10:38.040397",
     "exception": false,
     "start_time": "2024-12-12T11:10:38.032630",
     "status": "completed"
    },
    "tags": []
   },
   "source": [
    "# <span style=\"display: block; text-align: center; color: gold;\">Hyperparameter Tuning</span>\n"
   ]
  },
  {
   "cell_type": "markdown",
   "id": "d41fc743",
   "metadata": {
    "papermill": {
     "duration": 0.00767,
     "end_time": "2024-12-12T11:10:38.056083",
     "exception": false,
     "start_time": "2024-12-12T11:10:38.048413",
     "status": "completed"
    },
    "tags": []
   },
   "source": [
    "## <span style=\"display: block; text-align: center; color: aqua;\">Random Forest</span>\n"
   ]
  },
  {
   "cell_type": "code",
   "execution_count": 13,
   "id": "43f12961",
   "metadata": {
    "execution": {
     "iopub.execute_input": "2024-12-12T11:10:38.073926Z",
     "iopub.status.busy": "2024-12-12T11:10:38.073425Z",
     "iopub.status.idle": "2024-12-12T11:14:15.661632Z",
     "shell.execute_reply": "2024-12-12T11:14:15.660413Z"
    },
    "papermill": {
     "duration": 217.60726,
     "end_time": "2024-12-12T11:14:15.671539",
     "exception": false,
     "start_time": "2024-12-12T11:10:38.064279",
     "status": "completed"
    },
    "tags": []
   },
   "outputs": [
    {
     "name": "stdout",
     "output_type": "stream",
     "text": [
      "Best Parameters: {'max_depth': None, 'min_samples_split': 2, 'n_estimators': 200}\n",
      "Best Score: 0.9199\n"
     ]
    }
   ],
   "source": [
    "# I PREFER Random Forest\n",
    "# XGBoost, CatBoost, and LightGBM are solid options too\n",
    "param_grid = {\n",
    "    'n_estimators': [50, 100, 200],\n",
    "    'max_depth': [None, 10, 20, 30],\n",
    "    'min_samples_split': [2, 5, 10]\n",
    "}\n",
    "\n",
    "grid_search = GridSearchCV(\n",
    "    RandomForestClassifier(random_state=42),\n",
    "    param_grid,\n",
    "    cv=3,\n",
    "    scoring='accuracy'\n",
    ")\n",
    "\n",
    "grid_search.fit(X_train, y_train)\n",
    "print(f\"Best Parameters: {grid_search.best_params_}\")\n",
    "print(f\"Best Score: {grid_search.best_score_:.4f}\")\n"
   ]
  },
  {
   "cell_type": "markdown",
   "id": "6173c74f",
   "metadata": {
    "papermill": {
     "duration": 0.007929,
     "end_time": "2024-12-12T11:14:15.687591",
     "exception": false,
     "start_time": "2024-12-12T11:14:15.679662",
     "status": "completed"
    },
    "tags": []
   },
   "source": [
    "## <span style=\"display: block; text-align: center; color: aqua;\">Testing the Random Forest Model</span>\n"
   ]
  },
  {
   "cell_type": "code",
   "execution_count": 14,
   "id": "2c12df36",
   "metadata": {
    "execution": {
     "iopub.execute_input": "2024-12-12T11:14:15.705606Z",
     "iopub.status.busy": "2024-12-12T11:14:15.705136Z",
     "iopub.status.idle": "2024-12-12T11:14:15.858362Z",
     "shell.execute_reply": "2024-12-12T11:14:15.857239Z"
    },
    "papermill": {
     "duration": 0.165089,
     "end_time": "2024-12-12T11:14:15.860863",
     "exception": false,
     "start_time": "2024-12-12T11:14:15.695774",
     "status": "completed"
    },
    "tags": []
   },
   "outputs": [
    {
     "name": "stdout",
     "output_type": "stream",
     "text": [
      "\n",
      "Random Forest Test Performance: \n",
      "\n",
      "Accuracy: 0.9322\n",
      "Precision: 0.9229\n",
      "Recall: 0.9570\n",
      "F1 Score: 0.9396\n"
     ]
    }
   ],
   "source": [
    "# Evaluate the best model on the test set\n",
    "best_model = grid_search.best_estimator_\n",
    "y_test_pred = best_model.predict(X_test)\n",
    "\n",
    "print(\"\\nRandom Forest Test Performance: \\n\")\n",
    "print(f\"Accuracy: {accuracy_score(y_test, y_test_pred):.4f}\")\n",
    "print(f\"Precision: {precision_score(y_test, y_test_pred):.4f}\")\n",
    "print(f\"Recall: {recall_score(y_test, y_test_pred):.4f}\")\n",
    "print(f\"F1 Score: {f1_score(y_test, y_test_pred):.4f}\")\n"
   ]
  },
  {
   "cell_type": "code",
   "execution_count": 15,
   "id": "4b70fe5b",
   "metadata": {
    "execution": {
     "iopub.execute_input": "2024-12-12T11:14:15.879261Z",
     "iopub.status.busy": "2024-12-12T11:14:15.878402Z",
     "iopub.status.idle": "2024-12-12T11:14:15.909248Z",
     "shell.execute_reply": "2024-12-12T11:14:15.907803Z"
    },
    "papermill": {
     "duration": 0.042612,
     "end_time": "2024-12-12T11:14:15.911687",
     "exception": false,
     "start_time": "2024-12-12T11:14:15.869075",
     "status": "completed"
    },
    "tags": []
   },
   "outputs": [
    {
     "name": "stdout",
     "output_type": "stream",
     "text": [
      "\n",
      "Feature Importance:\n",
      "\n",
      "   Feature  Importance\n",
      "6       O1    0.118554\n",
      "5        P    0.106159\n",
      "1       F7    0.091120\n",
      "12      F8    0.081121\n",
      "0      AF3    0.078130\n",
      "13     AF4    0.077829\n",
      "11      F4    0.061504\n",
      "10     FC6    0.060465\n",
      "3      FC5    0.060417\n",
      "9       T8    0.058096\n",
      "7       O2    0.057122\n",
      "4       T7    0.053955\n",
      "2       F3    0.050991\n",
      "8       P8    0.044537\n"
     ]
    }
   ],
   "source": [
    "# Feature importance for Random Forest\n",
    "importances = best_model.feature_importances_\n",
    "feature_names = data.drop(columns=['eye_state']).columns\n",
    "\n",
    "importance_df = pd.DataFrame({\n",
    "    'Feature': feature_names,\n",
    "    'Importance': importances\n",
    "}).sort_values(by='Importance', ascending=False)\n",
    "\n",
    "print(\"\\nFeature Importance:\\n\")\n",
    "print(importance_df)\n",
    "\n"
   ]
  },
  {
   "cell_type": "code",
   "execution_count": 16,
   "id": "e225cf4b",
   "metadata": {
    "execution": {
     "iopub.execute_input": "2024-12-12T11:14:15.930249Z",
     "iopub.status.busy": "2024-12-12T11:14:15.929852Z",
     "iopub.status.idle": "2024-12-12T11:14:16.322989Z",
     "shell.execute_reply": "2024-12-12T11:14:16.321833Z"
    },
    "papermill": {
     "duration": 0.405448,
     "end_time": "2024-12-12T11:14:16.325389",
     "exception": false,
     "start_time": "2024-12-12T11:14:15.919941",
     "status": "completed"
    },
    "tags": []
   },
   "outputs": [
    {
     "data": {
      "image/png": "[encoded data removed]",
      "text/plain": [
       "<Figure size 1000x600 with 1 Axes>"
      ]
     },
     "metadata": {},
     "output_type": "display_data"
    }
   ],
   "source": [
    "# Let's plot feature importance\n",
    "plt.figure(figsize=(10, 6))\n",
    "sns.barplot(data=importance_df, x='Importance', y='Feature')\n",
    "plt.title(\"Feature Importance\")\n",
    "plt.show()\n"
   ]
  },
  {
   "cell_type": "markdown",
   "id": "280e9989",
   "metadata": {
    "papermill": {
     "duration": 0.00838,
     "end_time": "2024-12-12T11:14:16.342632",
     "exception": false,
     "start_time": "2024-12-12T11:14:16.334252",
     "status": "completed"
    },
    "tags": []
   },
   "source": [
    "# <span style=\"display: block; text-align: center; color: gold;\">Exploring Other Models</span>\n"
   ]
  },
  {
   "cell_type": "code",
   "execution_count": 17,
   "id": "87bfdbcd",
   "metadata": {
    "execution": {
     "iopub.execute_input": "2024-12-12T11:14:16.361650Z",
     "iopub.status.busy": "2024-12-12T11:14:16.361176Z",
     "iopub.status.idle": "2024-12-12T11:14:16.369815Z",
     "shell.execute_reply": "2024-12-12T11:14:16.368533Z"
    },
    "papermill": {
     "duration": 0.020747,
     "end_time": "2024-12-12T11:14:16.371893",
     "exception": false,
     "start_time": "2024-12-12T11:14:16.351146",
     "status": "completed"
    },
    "tags": []
   },
   "outputs": [
    {
     "name": "stdout",
     "output_type": "stream",
     "text": [
      "Unique values in y_train: [1 2]\n",
      "Unique values in y_test: [2 1]\n"
     ]
    }
   ],
   "source": [
    "print(\"Unique values in y_train:\", y_train.unique())\n",
    "print(\"Unique values in y_test:\", y_test.unique())"
   ]
  },
  {
   "cell_type": "markdown",
   "id": "d30e2f5a",
   "metadata": {
    "papermill": {
     "duration": 0.008549,
     "end_time": "2024-12-12T11:14:16.388986",
     "exception": false,
     "start_time": "2024-12-12T11:14:16.380437",
     "status": "completed"
    },
    "tags": []
   },
   "source": [
    "## <span style=\"display: block; text-align: center; color: aqua;\">XGBoost</span>\n"
   ]
  },
  {
   "cell_type": "code",
   "execution_count": 18,
   "id": "4ed377ff",
   "metadata": {
    "execution": {
     "iopub.execute_input": "2024-12-12T11:14:16.409299Z",
     "iopub.status.busy": "2024-12-12T11:14:16.408390Z",
     "iopub.status.idle": "2024-12-12T11:14:50.748145Z",
     "shell.execute_reply": "2024-12-12T11:14:50.747218Z"
    },
    "papermill": {
     "duration": 34.363253,
     "end_time": "2024-12-12T11:14:50.761509",
     "exception": false,
     "start_time": "2024-12-12T11:14:16.398256",
     "status": "completed"
    },
    "tags": []
   },
   "outputs": [
    {
     "name": "stdout",
     "output_type": "stream",
     "text": [
      "XGBoost Best Parameters: {'learning_rate': 0.2, 'max_depth': 7, 'n_estimators': 200, 'subsample': 0.8}\n",
      "XGBoost Best Score: 0.9343\n"
     ]
    }
   ],
   "source": [
    "xgb_param_grid = {\n",
    "    'learning_rate': [0.01, 0.1, 0.2],\n",
    "    'max_depth': [3, 5, 7],\n",
    "    'n_estimators': [50, 100, 200],\n",
    "    'subsample': [0.8, 1.0]\n",
    "}\n",
    "y_train = y_train - 1 # Just to remap the labels from 1,2 to 0,1 \n",
    "y_test = y_test - 1\n",
    "\n",
    "xgb = XGBClassifier(use_label_encoder=False, random_state=42, eval_metric='logloss')\n",
    "\n",
    "xgb_grid_search = GridSearchCV(xgb, xgb_param_grid, cv=3, scoring='accuracy')\n",
    "xgb_grid_search.fit(X_train, y_train)\n",
    "\n",
    "print(f\"XGBoost Best Parameters: {xgb_grid_search.best_params_}\")\n",
    "print(f\"XGBoost Best Score: {xgb_grid_search.best_score_:.4f}\")"
   ]
  },
  {
   "cell_type": "markdown",
   "id": "9c87db45",
   "metadata": {
    "papermill": {
     "duration": 0.008282,
     "end_time": "2024-12-12T11:14:50.778488",
     "exception": false,
     "start_time": "2024-12-12T11:14:50.770206",
     "status": "completed"
    },
    "tags": []
   },
   "source": [
    "## <span style=\"display: block; text-align: center; color: aqua;\">LightGBM</span>\n"
   ]
  },
  {
   "cell_type": "code",
   "execution_count": 19,
   "id": "09ecf675",
   "metadata": {
    "execution": {
     "iopub.execute_input": "2024-12-12T11:14:50.797738Z",
     "iopub.status.busy": "2024-12-12T11:14:50.796883Z",
     "iopub.status.idle": "2024-12-12T11:17:00.148038Z",
     "shell.execute_reply": "2024-12-12T11:17:00.146697Z"
    },
    "papermill": {
     "duration": 129.372082,
     "end_time": "2024-12-12T11:17:00.159155",
     "exception": false,
     "start_time": "2024-12-12T11:14:50.787073",
     "status": "completed"
    },
    "tags": []
   },
   "outputs": [
    {
     "name": "stdout",
     "output_type": "stream",
     "text": [
      "LightGBM Best Parameters: {'learning_rate': 0.2, 'max_depth': -1, 'n_estimators': 200, 'num_leaves': 100}\n",
      "LightGBM Best Score: 0.9447\n"
     ]
    }
   ],
   "source": [
    "\n",
    "lgbm_param_grid = {\n",
    "    'learning_rate': [0.01, 0.1, 0.2],\n",
    "    'max_depth': [-1, 10, 20],\n",
    "    'n_estimators': [50, 100, 200],\n",
    "    'num_leaves': [31, 50, 100]\n",
    "}\n",
    "\n",
    "lgbm = LGBMClassifier(random_state=42, verbosity = -1)\n",
    "\n",
    "lgbm_grid_search = GridSearchCV(lgbm, lgbm_param_grid, cv=3, scoring='accuracy')\n",
    "lgbm_grid_search.fit(X_train, y_train)\n",
    "\n",
    "print(f\"LightGBM Best Parameters: {lgbm_grid_search.best_params_}\")\n",
    "print(f\"LightGBM Best Score: {lgbm_grid_search.best_score_:.4f}\")\n"
   ]
  },
  {
   "cell_type": "markdown",
   "id": "44fd0a11",
   "metadata": {
    "papermill": {
     "duration": 0.008654,
     "end_time": "2024-12-12T11:17:00.176652",
     "exception": false,
     "start_time": "2024-12-12T11:17:00.167998",
     "status": "completed"
    },
    "tags": []
   },
   "source": [
    "## <span style=\"display: block; text-align: center; color: aqua;\">CatBoost</span>\n"
   ]
  },
  {
   "cell_type": "code",
   "execution_count": 20,
   "id": "b5a0e20a",
   "metadata": {
    "execution": {
     "iopub.execute_input": "2024-12-12T11:17:00.195812Z",
     "iopub.status.busy": "2024-12-12T11:17:00.195375Z",
     "iopub.status.idle": "2024-12-12T11:23:43.928626Z",
     "shell.execute_reply": "2024-12-12T11:23:43.927467Z"
    },
    "papermill": {
     "duration": 403.75506,
     "end_time": "2024-12-12T11:23:43.940407",
     "exception": false,
     "start_time": "2024-12-12T11:17:00.185347",
     "status": "completed"
    },
    "tags": []
   },
   "outputs": [
    {
     "name": "stdout",
     "output_type": "stream",
     "text": [
      "CatBoost Best Parameters: {'depth': 10, 'iterations': 200, 'l2_leaf_reg': 1, 'learning_rate': 0.2}\n",
      "CatBoost Best Score: 0.9420\n"
     ]
    }
   ],
   "source": [
    "catboost_param_grid = {\n",
    "    'learning_rate': [0.01, 0.1, 0.2],\n",
    "    'depth': [6, 8, 10],\n",
    "    'iterations': [50, 100, 200],\n",
    "    'l2_leaf_reg': [1, 3, 5]\n",
    "}\n",
    "\n",
    "catboost = CatBoostClassifier(random_state=42, verbose=0)\n",
    "\n",
    "catboost_grid_search = GridSearchCV(catboost, catboost_param_grid, cv=3, scoring='accuracy')\n",
    "catboost_grid_search.fit(X_train, y_train)\n",
    "\n",
    "print(f\"CatBoost Best Parameters: {catboost_grid_search.best_params_}\")\n",
    "print(f\"CatBoost Best Score: {catboost_grid_search.best_score_:.4f}\")\n"
   ]
  },
  {
   "cell_type": "code",
   "execution_count": 21,
   "id": "53131f87",
   "metadata": {
    "execution": {
     "iopub.execute_input": "2024-12-12T11:23:43.960352Z",
     "iopub.status.busy": "2024-12-12T11:23:43.959249Z",
     "iopub.status.idle": "2024-12-12T11:23:44.116226Z",
     "shell.execute_reply": "2024-12-12T11:23:44.114831Z"
    },
    "papermill": {
     "duration": 0.169664,
     "end_time": "2024-12-12T11:23:44.118829",
     "exception": false,
     "start_time": "2024-12-12T11:23:43.949165",
     "status": "completed"
    },
    "tags": []
   },
   "outputs": [
    {
     "name": "stdout",
     "output_type": "stream",
     "text": [
      "\n",
      "XGBoost Test Performance:\n",
      "Accuracy: 0.9476\n",
      "Precision: 0.9453\n",
      "Recall: 0.9375\n",
      "F1 Score: 0.9414\n",
      "\n",
      "LightGBM Test Performance:\n",
      "Accuracy: 0.9576\n",
      "Precision: 0.9593\n",
      "Recall: 0.9457\n",
      "F1 Score: 0.9525\n",
      "\n",
      "CatBoost Test Performance:\n",
      "Accuracy: 0.9576\n",
      "Precision: 0.9593\n",
      "Recall: 0.9457\n",
      "F1 Score: 0.9525\n"
     ]
    }
   ],
   "source": [
    "# Evaluate XGBoost\n",
    "xgb_best = xgb_grid_search.best_estimator_\n",
    "xgb_pred = xgb_best.predict(X_test)\n",
    "print(\"\\nXGBoost Test Performance:\")\n",
    "print(f\"Accuracy: {accuracy_score(y_test, xgb_pred):.4f}\")\n",
    "print(f\"Precision: {precision_score(y_test, xgb_pred):.4f}\")\n",
    "print(f\"Recall: {recall_score(y_test, xgb_pred):.4f}\")\n",
    "print(f\"F1 Score: {f1_score(y_test, xgb_pred):.4f}\")\n",
    "\n",
    "# Evaluate LightGBM\n",
    "lgbm_best = lgbm_grid_search.best_estimator_\n",
    "lgbm_pred = lgbm_best.predict(X_test)\n",
    "print(\"\\nLightGBM Test Performance:\")\n",
    "print(f\"Accuracy: {accuracy_score(y_test, lgbm_pred):.4f}\")\n",
    "print(f\"Precision: {precision_score(y_test, lgbm_pred):.4f}\")\n",
    "print(f\"Recall: {recall_score(y_test, lgbm_pred):.4f}\")\n",
    "print(f\"F1 Score: {f1_score(y_test, lgbm_pred):.4f}\")\n",
    "\n",
    "# Evaluate CatBoost\n",
    "catboost_best = catboost_grid_search.best_estimator_\n",
    "catboost_pred = catboost_best.predict(X_test)\n",
    "print(\"\\nCatBoost Test Performance:\")\n",
    "print(f\"Accuracy: {accuracy_score(y_test, catboost_pred):.4f}\")\n",
    "print(f\"Precision: {precision_score(y_test, catboost_pred):.4f}\")\n",
    "print(f\"Recall: {recall_score(y_test, catboost_pred):.4f}\")\n",
    "print(f\"F1 Score: {f1_score(y_test, catboost_pred):.4f}\")\n"
   ]
  },
  {
   "cell_type": "markdown",
   "id": "122e90df",
   "metadata": {
    "papermill": {
     "duration": 0.008993,
     "end_time": "2024-12-12T11:23:44.137127",
     "exception": false,
     "start_time": "2024-12-12T11:23:44.128134",
     "status": "completed"
    },
    "tags": []
   },
   "source": [
    "# <span style=\"display: block; text-align: center; color: gold;\">Performance Visualization</span>\n"
   ]
  },
  {
   "cell_type": "code",
   "execution_count": 22,
   "id": "87a5524d",
   "metadata": {
    "execution": {
     "iopub.execute_input": "2024-12-12T11:23:44.158425Z",
     "iopub.status.busy": "2024-12-12T11:23:44.157218Z",
     "iopub.status.idle": "2024-12-12T11:23:44.833624Z",
     "shell.execute_reply": "2024-12-12T11:23:44.832291Z"
    },
    "papermill": {
     "duration": 0.689653,
     "end_time": "2024-12-12T11:23:44.836215",
     "exception": false,
     "start_time": "2024-12-12T11:23:44.146562",
     "status": "completed"
    },
    "tags": []
   },
   "outputs": [
    {
     "data": {
      "image/png": "[encoded data removed]",
      "text/plain": [
       "<Figure size 1200x600 with 1 Axes>"
      ]
     },
     "metadata": {},
     "output_type": "display_data"
    }
   ],
   "source": [
    "models = ['Random Forest', 'XGBoost', 'LightGBM', 'CatBoost']\n",
    "metrics = ['Accuracy', 'Precision', 'Recall', 'F1 Score']\n",
    "scores = {model: [] for model in models}\n",
    "\n",
    "\n",
    "# Evaluate Random Forest Model\n",
    "y_test_rf = y_test + 1\n",
    "best_model = grid_search.best_estimator_\n",
    "y_test_pred = best_model.predict(X_test)\n",
    "scores['Random Forest'].append(accuracy_score(y_test_rf, y_test_pred))\n",
    "scores['Random Forest'].append(precision_score(y_test_rf, y_test_pred))\n",
    "scores['Random Forest'].append(recall_score(y_test_rf, y_test_pred))\n",
    "scores['Random Forest'].append(f1_score(y_test_rf, y_test_pred))\n",
    "\n",
    "# Evaluate XGBoost\n",
    "xgb_best = xgb_grid_search.best_estimator_\n",
    "xgb_pred = xgb_best.predict(X_test)\n",
    "scores['XGBoost'].append(accuracy_score(y_test, xgb_pred))\n",
    "scores['XGBoost'].append(precision_score(y_test, xgb_pred))\n",
    "scores['XGBoost'].append(recall_score(y_test, xgb_pred))\n",
    "scores['XGBoost'].append(f1_score(y_test, xgb_pred))\n",
    "\n",
    "# Evaluate LightGBM\n",
    "lgbm_best = lgbm_grid_search.best_estimator_\n",
    "lgbm_pred = lgbm_best.predict(X_test)\n",
    "scores['LightGBM'].append(accuracy_score(y_test, lgbm_pred))\n",
    "scores['LightGBM'].append(precision_score(y_test, lgbm_pred))\n",
    "scores['LightGBM'].append(recall_score(y_test, lgbm_pred))\n",
    "scores['LightGBM'].append(f1_score(y_test, lgbm_pred))\n",
    "\n",
    "# Evaluate CatBoost\n",
    "catboost_best = catboost_grid_search.best_estimator_\n",
    "catboost_pred = catboost_best.predict(X_test)\n",
    "scores['CatBoost'].append(accuracy_score(y_test, catboost_pred))\n",
    "scores['CatBoost'].append(precision_score(y_test, catboost_pred))\n",
    "scores['CatBoost'].append(recall_score(y_test, catboost_pred))\n",
    "scores['CatBoost'].append(f1_score(y_test, catboost_pred))\n",
    "\n",
    "data = np.array([scores[model] for model in models])\n",
    "\n",
    "# Plot the metrics\n",
    "x = np.arange(len(metrics))  \n",
    "width = 0.2  \n",
    "\n",
    "fig, ax = plt.subplots(figsize=(12, 6))\n",
    "\n",
    "for i, model in enumerate(models):\n",
    "    ax.bar(x + i * width - 1.5 * width, data[i], width, label=model)\n",
    "\n",
    "ax.set_xlabel('Metrics')\n",
    "ax.set_ylabel('Scores')\n",
    "ax.set_title('Model Performance Comparison')\n",
    "ax.set_xticks(x)\n",
    "ax.set_xticklabels(metrics)\n",
    "ax.legend()\n",
    "\n",
    "plt.tight_layout()\n",
    "plt.show()\n"
   ]
  },
  {
   "cell_type": "code",
   "execution_count": 23,
   "id": "4a740635",
   "metadata": {
    "execution": {
     "iopub.execute_input": "2024-12-12T11:23:44.856977Z",
     "iopub.status.busy": "2024-12-12T11:23:44.856538Z",
     "iopub.status.idle": "2024-12-12T11:23:45.266750Z",
     "shell.execute_reply": "2024-12-12T11:23:45.265727Z"
    },
    "papermill": {
     "duration": 0.423265,
     "end_time": "2024-12-12T11:23:45.269154",
     "exception": false,
     "start_time": "2024-12-12T11:23:44.845889",
     "status": "completed"
    },
    "tags": []
   },
   "outputs": [
    {
     "data": {
      "image/png": "[encoded data removed]",
      "text/plain": [
       "<Figure size 1200x600 with 1 Axes>"
      ]
     },
     "metadata": {},
     "output_type": "display_data"
    }
   ],
   "source": [
    "# Let's plot line chart for model metrics\n",
    "plt.figure(figsize=(12, 6))\n",
    "\n",
    "for model in models:\n",
    "    plt.plot(metrics, scores[model], marker='o', label=model)\n",
    "\n",
    "plt.title('Model Performance Metrics Comparison', fontsize=14)\n",
    "plt.xlabel('Metrics', fontsize=12)\n",
    "plt.ylabel('Scores', fontsize=12)\n",
    "plt.ylim(0.9, 1.0)  # We are assuming scores are between 0.9 and 1 for better visualization\n",
    "plt.xticks(fontsize=10)\n",
    "plt.yticks(fontsize=10)\n",
    "plt.legend(title='Models', fontsize=10)\n",
    "\n",
    "plt.grid(True, linestyle='--', alpha=0.7)\n",
    "plt.tight_layout()\n",
    "plt.show()\n"
   ]
  }
 ],
 "metadata": {
  "kaggle": {
   "accelerator": "none",
   "dataSources": [
    {
     "datasetId": 3134155,
     "sourceId": 5427454,
     "sourceType": "datasetVersion"
    }
   ],
   "dockerImageVersionId": 30804,
   "isGpuEnabled": false,
   "isInternetEnabled": true,
   "language": "python",
   "sourceType": "notebook"
  },
  "kernelspec": {
   "display_name": "Python 3",
   "language": "python",
   "name": "python3"
  },
  "language_info": {
   "codemirror_mode": {
    "name": "ipython",
    "version": 3
   },
   "file_extension": ".py",
   "mimetype": "text/x-python",
   "name": "python",
   "nbconvert_exporter": "python",
   "pygments_lexer": "ipython3",
   "version": "3.10.14"
  },
  "papermill": {
   "default_parameters": {},
   "duration": 799.851245,
   "end_time": "2024-12-12T11:23:46.203087",
   "environment_variables": {},
   "exception": null,
   "input_path": "__notebook__.ipynb",
   "output_path": "__notebook__.ipynb",
   "parameters": {},
   "start_time": "2024-12-12T11:10:26.351842",
   "version": "2.6.0"
  }
 },
 "nbformat": 4,
 "nbformat_minor": 5
}
